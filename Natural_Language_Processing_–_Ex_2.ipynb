{
  "cells": [
    {
      "cell_type": "markdown",
      "metadata": {
        "id": "SS7nfICxgkWu"
      },
      "source": [
        "# Natural Language Processing 2024 – Ex. 2"
      ]
    },
    {
      "cell_type": "markdown",
      "metadata": {
        "id": "Hq8U8nL8yfH6"
      },
      "source": [
        "**Add the names and ID of the submitting students here:**\n",
        "\n",
        "1.\n",
        "\n",
        "2.\n",
        "\n",
        "3."
      ]
    },
    {
      "cell_type": "markdown",
      "metadata": {
        "id": "xLnhXF3ok9Cd"
      },
      "source": [
        "\n",
        "In this exercise we will perform the task of Sentiment analysis over the IMDB movie review dataset.\n",
        "\n",
        "The dataset has around 50K movie reviews with each review labeled as \"positive\" or \"negative\".\n",
        "\n",
        "Our goal is given the review we want to classifiy it as positive or negative, this task is also called \"Sentiment Analysis\"\n",
        "\n",
        "Below you can find a suggestion of the order things should be implemented, you can follow this or do it your own way.\n",
        "\n",
        "The exercise has several stages:\n",
        "\n",
        "1. Downloading and cleaning the data\n",
        "2. Running some basic analysis\n",
        "3. Training a Feed Forward network to perform the task using classification\n",
        "4. Training a Bi-Dir LSTM to perform the task\n",
        "5. Playing with paramters to see if we get better results\n",
        "\n",
        "Please sumbit the notebook after it's running stage. Grade will be given for clean code, with comments and explanations"
      ]
    },
    {
      "cell_type": "code",
      "execution_count": 1,
      "metadata": {},
      "outputs": [
        {
          "name": "stderr",
          "output_type": "stream",
          "text": [
            "[nltk_data] Downloading package stopwords to\n",
            "[nltk_data]     C:\\Users\\yanivg\\AppData\\Roaming\\nltk_data...\n",
            "[nltk_data]   Package stopwords is already up-to-date!\n"
          ]
        },
        {
          "data": {
            "text/plain": [
              "True"
            ]
          },
          "execution_count": 1,
          "metadata": {},
          "output_type": "execute_result"
        }
      ],
      "source": [
        "import nltk\n",
        "import pandas as pd\n",
        "import re\n",
        "from nltk.corpus import stopwords\n",
        "nltk.download('stopwords')"
      ]
    },
    {
      "cell_type": "markdown",
      "metadata": {
        "id": "4QfMknbomReU"
      },
      "source": [
        "# Data download and cleaning\n",
        "\n",
        "1. Download the IMDB dataset.\n",
        "\n",
        "2. Clean the data:\n",
        "* Remove URLs, HTML tags and non-alphanumeric characters\n",
        "* Remove stop-words (use NLTK)\n",
        "* Lowercase the dataset\n",
        "* (Optional) Anything else you think can help...\n",
        "\n",
        "Show one example of a review before and after this cleaning (find a review which has at least one URL/HTML tag/Non-aplhanumeric characters)\n",
        "\n"
      ]
    },
    {
      "cell_type": "code",
      "execution_count": 8,
      "metadata": {
        "id": "h9PUr7Mtk7s8"
      },
      "outputs": [
        {
          "name": "stdout",
          "output_type": "stream",
          "text": [
            "Original: This is an example review with HTML <b>bold</b> tags and a URL: https://example.com\n",
            "Cleaned: example review html bold tags url\n",
            "                                              review  sentiment\n",
            "0                                             review  sentiment\n",
            "1  One of the other reviewers has mentioned that ...   positive\n",
            "2  A wonderful little production. <br /><br />The...   positive\n",
            "3  I thought this was a wonderful way to spend ti...   positive\n",
            "4  Basically there's a family where a little boy ...   negative\n",
            "<class 'pandas.core.frame.DataFrame'>\n",
            "RangeIndex: 50001 entries, 0 to 50000\n",
            "Data columns (total 2 columns):\n",
            " #   Column     Non-Null Count  Dtype \n",
            "---  ------     --------------  ----- \n",
            " 0   review     50001 non-null  object\n",
            " 1   sentiment  50001 non-null  object\n",
            "dtypes: object(2)\n",
            "memory usage: 781.4+ KB\n",
            "None\n",
            "review       0\n",
            "sentiment    0\n",
            "dtype: int64\n"
          ]
        }
      ],
      "source": [
        "# Your code heimport re\n",
        "\n",
        "\n",
        "def clean_text(text):\n",
        "    # Remove HTML tags\n",
        "    text = re.sub(r'<.*?>', '', text)\n",
        "    # Remove URLs\n",
        "    text = re.sub(r'http\\S+', '', text)\n",
        "    # Remove non-alphanumeric characters\n",
        "    text = re.sub(r'\\W', ' ', text)\n",
        "    # Convert to lowercase\n",
        "    text = text.lower()\n",
        "    # Remove stopwords\n",
        "    stop_words = set(stopwords.words('english'))\n",
        "    words = text.split()\n",
        "    text = ' '.join([word for word in words if word not in stop_words])\n",
        "    return text\n",
        "def load_text(filename):\n",
        "   file_path = filename  # Replace with your file path\n",
        "   data = pd.read_csv(file_path, header=None, names=['review', 'sentiment'])\n",
        "\n",
        "    # Inspect the data\n",
        "   print(data.head())\n",
        "\n",
        "   print(data.info())\n",
        "    # Check for missing values\n",
        "   print(data.isnull().sum())\n",
        "\n",
        "    # Apply the cleaning function to the review column\n",
        "   data['review'] = data['review'].apply(clean_text)\n",
        "   return data\n",
        "# Example usage\n",
        "example_review = \"This is an example review with HTML <b>bold</b> tags and a URL: https://example.com\"\n",
        "cleaned_review = clean_text(example_review)\n",
        "print(\"Original:\", example_review)\n",
        "print(\"Cleaned:\", cleaned_review)\n",
        "\n",
        "# Load the data\n",
        "data = load_text('IMDB_Dataset.csv')\n",
        "print(\"cleaned text printing:\\n\")\n",
        "print(data.head())\n"
      ]
    },
    {
      "cell_type": "markdown",
      "metadata": {
        "id": "yIVRS_efnIWM"
      },
      "source": [
        "# Tokenization\n",
        "\n",
        "1. Tokenize the dataset (you can tokenize using spaces or use more robust methods from NLTK)\n",
        "2. (Optional) Lemmatize the text (you can use NLTK) this can improve results\n",
        "3. Lemmatize should be carfully be done, so we wont lose too much.\n",
        "4. Show an example of 3 sentences before and after this process"
      ]
    },
    {
      "cell_type": "code",
      "execution_count": null,
      "metadata": {
        "id": "AdlCQ--gnwYh"
      },
      "outputs": [],
      "source": [
        "# Your code here"
      ]
    },
    {
      "cell_type": "markdown",
      "metadata": {
        "id": "Uls-qLAcoT2Z"
      },
      "source": [
        "# Basic analysis\n",
        "\n",
        "Perfrom some analysis on the data\n",
        "1. Show the number percentage of negative/positive review (label balancing)\n",
        "2. Plot some statistics on the length of review (after our cleaning process)\n",
        "3. (Optional) show anything else you think is important"
      ]
    },
    {
      "cell_type": "code",
      "execution_count": null,
      "metadata": {
        "id": "jnpnbjXcoRJx"
      },
      "outputs": [],
      "source": []
    },
    {
      "cell_type": "markdown",
      "metadata": {
        "id": "I-b0Fu9vqocP"
      },
      "source": [
        "# Preparing the dataset for training\n",
        "we can also use glove or previously used models as the first layer\n",
        "1. Choose your vocabulary size K (should be between 1000 and 3000)\n",
        "2. Find the top K frequent words in your database\n",
        "3. Create word indexes like we did in class, for any word not in your top K  words replace with \\<UNK\\>. Remember to add an index for the \\<PAD\\> token.\n",
        "4. Create a new dataset with indexes instead of words later to be used for training\n",
        "5. Convert your labels to numeric representation (that your network can deal with).\n",
        "\n",
        "Split the dataset to 80% traind and 20% test, remember to keep the balance between labels!\n",
        "we need to make sure, we still have enough labels on both sides\n",
        "\n"
      ]
    },
    {
      "cell_type": "code",
      "execution_count": null,
      "metadata": {
        "id": "ZawXFmEHqnvA"
      },
      "outputs": [],
      "source": [
        "# Your code here"
      ]
    },
    {
      "cell_type": "markdown",
      "metadata": {
        "id": "8UokkSJLp5VQ"
      },
      "source": [
        "# Training a feed forward neural network\n",
        "\n",
        "For simplicity we would take only reviews with 500 words (after tokenization) or less.\n",
        "For this part we would train a neural network that gets the full review as one input (like we had in our NER example in class) and outputs the label (positive or negative).\n",
        "Remember that you need to PAD the words so all reviews will have the same length.\n",
        "\n",
        "For this section please try at least 3 variants of different network and show if the results change, you can choose from the following:\n",
        "1. Adding hidden layers to the network\n",
        "2. Running with and without Dropout\n",
        "3. Trying different optimizers\n",
        "\n",
        "(Optional) Try to use the Glove embedding: Create an embedding layer in your PyTorch model using the loaded GloVe embeddings. You will initialize the weights of the embedding layer with the GloVe embeddings.\n",
        "\n",
        "For each option:\n",
        "\n",
        "* Plot the train and test error during training, does your network overfit?\n",
        "\n",
        "* Plot the final results of the network, including accuracy and confusion matrix"
      ]
    },
    {
      "cell_type": "code",
      "execution_count": null,
      "metadata": {
        "id": "NFtHmXUKp4hI"
      },
      "outputs": [],
      "source": [
        "# Your code here"
      ]
    },
    {
      "cell_type": "markdown",
      "metadata": {
        "id": "qoY1QnIdtCk3"
      },
      "source": [
        "# Training a BiDir LSTM neural network\n",
        "\n",
        "Now do the same as the prvious section with a bi-directional LSTM.\n",
        "\n",
        "Remember that the output of the LSTM should be connected to a small feed forward network to perform the actual classification.\n",
        "\n",
        "Here again you can play with number of layers and the LSTM or the small network of the output. Show only the best result you got.\n",
        "\n",
        "* Plot the train and test error during training, does your network overfit?\n",
        "\n",
        "* Plot the final results of the network, including accuracy and confusion matrix\n",
        "\n",
        "Are the results better than the previous section?\n",
        "\n",
        "\n"
      ]
    },
    {
      "cell_type": "code",
      "execution_count": null,
      "metadata": {
        "id": "f9WyUlmps5sO"
      },
      "outputs": [],
      "source": []
    },
    {
      "cell_type": "markdown",
      "metadata": {
        "id": "BIpmlkOdyRaS"
      },
      "source": [
        "Finally show 3 reviews from the test data with correct labales and 3 without, why do you think the network did not success on these examples?"
      ]
    },
    {
      "cell_type": "code",
      "execution_count": null,
      "metadata": {
        "id": "LLdBU7zSyQZa"
      },
      "outputs": [],
      "source": []
    }
  ],
  "metadata": {
    "colab": {
      "provenance": []
    },
    "kernelspec": {
      "display_name": "Python 3",
      "name": "python3"
    },
    "language_info": {
      "codemirror_mode": {
        "name": "ipython",
        "version": 3
      },
      "file_extension": ".py",
      "mimetype": "text/x-python",
      "name": "python",
      "nbconvert_exporter": "python",
      "pygments_lexer": "ipython3",
      "version": "3.11.5"
    }
  },
  "nbformat": 4,
  "nbformat_minor": 0
}
