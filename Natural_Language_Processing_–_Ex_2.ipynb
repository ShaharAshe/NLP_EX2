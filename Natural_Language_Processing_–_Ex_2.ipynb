{
  "cells": [
    {
      "cell_type": "markdown",
      "metadata": {
        "id": "SS7nfICxgkWu"
      },
      "source": [
        "# Natural Language Processing 2024 – Ex. 2"
      ]
    },
    {
      "cell_type": "markdown",
      "metadata": {
        "id": "Hq8U8nL8yfH6"
      },
      "source": [
        "**Add the names and ID of the submitting students here:**\n",
        "\n",
        "1.\n",
        "\n",
        "2.\n",
        "\n",
        "3."
      ]
    },
    {
      "cell_type": "markdown",
      "metadata": {
        "id": "xLnhXF3ok9Cd"
      },
      "source": [
        "\n",
        "In this exercise we will perform the task of Sentiment analysis over the IMDB movie review dataset.\n",
        "\n",
        "The dataset has around 50K movie reviews with each review labeled as \"positive\" or \"negative\".\n",
        "\n",
        "Our goal is given the review we want to classifiy it as positive or negative, this task is also called \"Sentiment Analysis\"\n",
        "\n",
        "Below you can find a suggestion of the order things should be implemented, you can follow this or do it your own way.\n",
        "\n",
        "The exercise has several stages:\n",
        "\n",
        "1. Downloading and cleaning the data\n",
        "2. Running some basic analysis\n",
        "3. Training a Feed Forward network to perform the task using classification\n",
        "4. Training a Bi-Dir LSTM to perform the task\n",
        "5. Playing with paramters to see if we get better results\n",
        "\n",
        "Please sumbit the notebook after it's running stage. Grade will be given for clean code, with comments and explanations"
      ]
    },
    {
      "cell_type": "code",
      "execution_count": 2,
      "metadata": {},
      "outputs": [
        {
          "name": "stderr",
          "output_type": "stream",
          "text": [
            "[nltk_data] Downloading package punkt to\n",
            "[nltk_data]     C:\\Users\\yaniv\\AppData\\Roaming\\nltk_data...\n",
            "[nltk_data]   Package punkt is already up-to-date!\n",
            "[nltk_data] Downloading package wordnet to\n",
            "[nltk_data]     C:\\Users\\yaniv\\AppData\\Roaming\\nltk_data...\n",
            "[nltk_data]   Package wordnet is already up-to-date!\n",
            "[nltk_data] Downloading package stopwords to\n",
            "[nltk_data]     C:\\Users\\yaniv\\AppData\\Roaming\\nltk_data...\n",
            "[nltk_data]   Package stopwords is already up-to-date!\n"
          ]
        },
        {
          "data": {
            "text/plain": [
              "True"
            ]
          },
          "execution_count": 2,
          "metadata": {},
          "output_type": "execute_result"
        }
      ],
      "source": [
        "import nltk\n",
        "import pandas as pd\n",
        "import re\n",
        "from nltk.corpus import stopwords\n",
        "from nltk.tokenize import word_tokenize\n",
        "from nltk.stem import WordNetLemmatizer\n",
        "nltk.download('punkt')\n",
        "nltk.download('wordnet')\n",
        "\n",
        "nltk.download('stopwords')"
      ]
    },
    {
      "cell_type": "markdown",
      "metadata": {
        "id": "4QfMknbomReU"
      },
      "source": [
        "# Data download and cleaning\n",
        "\n",
        "1. Download the IMDB dataset.\n",
        "\n",
        "2. Clean the data:\n",
        "* Remove URLs, HTML tags and non-alphanumeric characters\n",
        "* Remove stop-words (use NLTK)\n",
        "* Lowercase the dataset\n",
        "* (Optional) Anything else you think can help...\n",
        "\n",
        "Show one example of a review before and after this cleaning (find a review which has at least one URL/HTML tag/Non-aplhanumeric characters)\n",
        "\n"
      ]
    },
    {
      "cell_type": "code",
      "execution_count": 3,
      "metadata": {
        "id": "h9PUr7Mtk7s8"
      },
      "outputs": [
        {
          "name": "stdout",
          "output_type": "stream",
          "text": [
            "Original: This is an example review with HTML <b>bold</b> tags and a URL: https://example.com\n",
            "Cleaned: example review html bold tags url\n"
          ]
        },
        {
          "ename": "FileNotFoundError",
          "evalue": "[Errno 2] No such file or directory: 'IMDB_Dataset.csv'",
          "output_type": "error",
          "traceback": [
            "\u001b[1;31m---------------------------------------------------------------------------\u001b[0m",
            "\u001b[1;31mFileNotFoundError\u001b[0m                         Traceback (most recent call last)",
            "Cell \u001b[1;32mIn[3], line 43\u001b[0m\n\u001b[0;32m     40\u001b[0m \u001b[38;5;28mprint\u001b[39m(\u001b[38;5;124m\"\u001b[39m\u001b[38;5;124mCleaned:\u001b[39m\u001b[38;5;124m\"\u001b[39m, cleaned_review)\n\u001b[0;32m     42\u001b[0m \u001b[38;5;66;03m# Load the data\u001b[39;00m\n\u001b[1;32m---> 43\u001b[0m data \u001b[38;5;241m=\u001b[39m load_text(\u001b[38;5;124m'\u001b[39m\u001b[38;5;124mIMDB_Dataset.csv\u001b[39m\u001b[38;5;124m'\u001b[39m)\n\u001b[0;32m     44\u001b[0m \u001b[38;5;28mprint\u001b[39m(\u001b[38;5;124m\"\u001b[39m\u001b[38;5;124mcleaned text printing:\u001b[39m\u001b[38;5;130;01m\\n\u001b[39;00m\u001b[38;5;124m\"\u001b[39m)\n\u001b[0;32m     45\u001b[0m \u001b[38;5;28mprint\u001b[39m(data\u001b[38;5;241m.\u001b[39mhead())\n",
            "Cell \u001b[1;32mIn[3], line 24\u001b[0m, in \u001b[0;36mload_text\u001b[1;34m(filename)\u001b[0m\n\u001b[0;32m     22\u001b[0m \u001b[38;5;28;01mdef\u001b[39;00m \u001b[38;5;21mload_text\u001b[39m(filename):\n\u001b[0;32m     23\u001b[0m    file_path \u001b[38;5;241m=\u001b[39m filename  \u001b[38;5;66;03m# Replace with your file path\u001b[39;00m\n\u001b[1;32m---> 24\u001b[0m    data \u001b[38;5;241m=\u001b[39m pd\u001b[38;5;241m.\u001b[39mread_csv(file_path, header\u001b[38;5;241m=\u001b[39m\u001b[38;5;28;01mNone\u001b[39;00m, names\u001b[38;5;241m=\u001b[39m[\u001b[38;5;124m'\u001b[39m\u001b[38;5;124mreview\u001b[39m\u001b[38;5;124m'\u001b[39m, \u001b[38;5;124m'\u001b[39m\u001b[38;5;124msentiment\u001b[39m\u001b[38;5;124m'\u001b[39m])\n\u001b[0;32m     26\u001b[0m     \u001b[38;5;66;03m# Inspect the data\u001b[39;00m\n\u001b[0;32m     27\u001b[0m    \u001b[38;5;28mprint\u001b[39m(data\u001b[38;5;241m.\u001b[39mhead())\n",
            "File \u001b[1;32mc:\\ProgramData\\anaconda3\\Lib\\site-packages\\pandas\\io\\parsers\\readers.py:912\u001b[0m, in \u001b[0;36mread_csv\u001b[1;34m(filepath_or_buffer, sep, delimiter, header, names, index_col, usecols, dtype, engine, converters, true_values, false_values, skipinitialspace, skiprows, skipfooter, nrows, na_values, keep_default_na, na_filter, verbose, skip_blank_lines, parse_dates, infer_datetime_format, keep_date_col, date_parser, date_format, dayfirst, cache_dates, iterator, chunksize, compression, thousands, decimal, lineterminator, quotechar, quoting, doublequote, escapechar, comment, encoding, encoding_errors, dialect, on_bad_lines, delim_whitespace, low_memory, memory_map, float_precision, storage_options, dtype_backend)\u001b[0m\n\u001b[0;32m    899\u001b[0m kwds_defaults \u001b[38;5;241m=\u001b[39m _refine_defaults_read(\n\u001b[0;32m    900\u001b[0m     dialect,\n\u001b[0;32m    901\u001b[0m     delimiter,\n\u001b[1;32m   (...)\u001b[0m\n\u001b[0;32m    908\u001b[0m     dtype_backend\u001b[38;5;241m=\u001b[39mdtype_backend,\n\u001b[0;32m    909\u001b[0m )\n\u001b[0;32m    910\u001b[0m kwds\u001b[38;5;241m.\u001b[39mupdate(kwds_defaults)\n\u001b[1;32m--> 912\u001b[0m \u001b[38;5;28;01mreturn\u001b[39;00m _read(filepath_or_buffer, kwds)\n",
            "File \u001b[1;32mc:\\ProgramData\\anaconda3\\Lib\\site-packages\\pandas\\io\\parsers\\readers.py:577\u001b[0m, in \u001b[0;36m_read\u001b[1;34m(filepath_or_buffer, kwds)\u001b[0m\n\u001b[0;32m    574\u001b[0m _validate_names(kwds\u001b[38;5;241m.\u001b[39mget(\u001b[38;5;124m\"\u001b[39m\u001b[38;5;124mnames\u001b[39m\u001b[38;5;124m\"\u001b[39m, \u001b[38;5;28;01mNone\u001b[39;00m))\n\u001b[0;32m    576\u001b[0m \u001b[38;5;66;03m# Create the parser.\u001b[39;00m\n\u001b[1;32m--> 577\u001b[0m parser \u001b[38;5;241m=\u001b[39m TextFileReader(filepath_or_buffer, \u001b[38;5;241m*\u001b[39m\u001b[38;5;241m*\u001b[39mkwds)\n\u001b[0;32m    579\u001b[0m \u001b[38;5;28;01mif\u001b[39;00m chunksize \u001b[38;5;129;01mor\u001b[39;00m iterator:\n\u001b[0;32m    580\u001b[0m     \u001b[38;5;28;01mreturn\u001b[39;00m parser\n",
            "File \u001b[1;32mc:\\ProgramData\\anaconda3\\Lib\\site-packages\\pandas\\io\\parsers\\readers.py:1407\u001b[0m, in \u001b[0;36mTextFileReader.__init__\u001b[1;34m(self, f, engine, **kwds)\u001b[0m\n\u001b[0;32m   1404\u001b[0m     \u001b[38;5;28mself\u001b[39m\u001b[38;5;241m.\u001b[39moptions[\u001b[38;5;124m\"\u001b[39m\u001b[38;5;124mhas_index_names\u001b[39m\u001b[38;5;124m\"\u001b[39m] \u001b[38;5;241m=\u001b[39m kwds[\u001b[38;5;124m\"\u001b[39m\u001b[38;5;124mhas_index_names\u001b[39m\u001b[38;5;124m\"\u001b[39m]\n\u001b[0;32m   1406\u001b[0m \u001b[38;5;28mself\u001b[39m\u001b[38;5;241m.\u001b[39mhandles: IOHandles \u001b[38;5;241m|\u001b[39m \u001b[38;5;28;01mNone\u001b[39;00m \u001b[38;5;241m=\u001b[39m \u001b[38;5;28;01mNone\u001b[39;00m\n\u001b[1;32m-> 1407\u001b[0m \u001b[38;5;28mself\u001b[39m\u001b[38;5;241m.\u001b[39m_engine \u001b[38;5;241m=\u001b[39m \u001b[38;5;28mself\u001b[39m\u001b[38;5;241m.\u001b[39m_make_engine(f, \u001b[38;5;28mself\u001b[39m\u001b[38;5;241m.\u001b[39mengine)\n",
            "File \u001b[1;32mc:\\ProgramData\\anaconda3\\Lib\\site-packages\\pandas\\io\\parsers\\readers.py:1661\u001b[0m, in \u001b[0;36mTextFileReader._make_engine\u001b[1;34m(self, f, engine)\u001b[0m\n\u001b[0;32m   1659\u001b[0m     \u001b[38;5;28;01mif\u001b[39;00m \u001b[38;5;124m\"\u001b[39m\u001b[38;5;124mb\u001b[39m\u001b[38;5;124m\"\u001b[39m \u001b[38;5;129;01mnot\u001b[39;00m \u001b[38;5;129;01min\u001b[39;00m mode:\n\u001b[0;32m   1660\u001b[0m         mode \u001b[38;5;241m+\u001b[39m\u001b[38;5;241m=\u001b[39m \u001b[38;5;124m\"\u001b[39m\u001b[38;5;124mb\u001b[39m\u001b[38;5;124m\"\u001b[39m\n\u001b[1;32m-> 1661\u001b[0m \u001b[38;5;28mself\u001b[39m\u001b[38;5;241m.\u001b[39mhandles \u001b[38;5;241m=\u001b[39m get_handle(\n\u001b[0;32m   1662\u001b[0m     f,\n\u001b[0;32m   1663\u001b[0m     mode,\n\u001b[0;32m   1664\u001b[0m     encoding\u001b[38;5;241m=\u001b[39m\u001b[38;5;28mself\u001b[39m\u001b[38;5;241m.\u001b[39moptions\u001b[38;5;241m.\u001b[39mget(\u001b[38;5;124m\"\u001b[39m\u001b[38;5;124mencoding\u001b[39m\u001b[38;5;124m\"\u001b[39m, \u001b[38;5;28;01mNone\u001b[39;00m),\n\u001b[0;32m   1665\u001b[0m     compression\u001b[38;5;241m=\u001b[39m\u001b[38;5;28mself\u001b[39m\u001b[38;5;241m.\u001b[39moptions\u001b[38;5;241m.\u001b[39mget(\u001b[38;5;124m\"\u001b[39m\u001b[38;5;124mcompression\u001b[39m\u001b[38;5;124m\"\u001b[39m, \u001b[38;5;28;01mNone\u001b[39;00m),\n\u001b[0;32m   1666\u001b[0m     memory_map\u001b[38;5;241m=\u001b[39m\u001b[38;5;28mself\u001b[39m\u001b[38;5;241m.\u001b[39moptions\u001b[38;5;241m.\u001b[39mget(\u001b[38;5;124m\"\u001b[39m\u001b[38;5;124mmemory_map\u001b[39m\u001b[38;5;124m\"\u001b[39m, \u001b[38;5;28;01mFalse\u001b[39;00m),\n\u001b[0;32m   1667\u001b[0m     is_text\u001b[38;5;241m=\u001b[39mis_text,\n\u001b[0;32m   1668\u001b[0m     errors\u001b[38;5;241m=\u001b[39m\u001b[38;5;28mself\u001b[39m\u001b[38;5;241m.\u001b[39moptions\u001b[38;5;241m.\u001b[39mget(\u001b[38;5;124m\"\u001b[39m\u001b[38;5;124mencoding_errors\u001b[39m\u001b[38;5;124m\"\u001b[39m, \u001b[38;5;124m\"\u001b[39m\u001b[38;5;124mstrict\u001b[39m\u001b[38;5;124m\"\u001b[39m),\n\u001b[0;32m   1669\u001b[0m     storage_options\u001b[38;5;241m=\u001b[39m\u001b[38;5;28mself\u001b[39m\u001b[38;5;241m.\u001b[39moptions\u001b[38;5;241m.\u001b[39mget(\u001b[38;5;124m\"\u001b[39m\u001b[38;5;124mstorage_options\u001b[39m\u001b[38;5;124m\"\u001b[39m, \u001b[38;5;28;01mNone\u001b[39;00m),\n\u001b[0;32m   1670\u001b[0m )\n\u001b[0;32m   1671\u001b[0m \u001b[38;5;28;01massert\u001b[39;00m \u001b[38;5;28mself\u001b[39m\u001b[38;5;241m.\u001b[39mhandles \u001b[38;5;129;01mis\u001b[39;00m \u001b[38;5;129;01mnot\u001b[39;00m \u001b[38;5;28;01mNone\u001b[39;00m\n\u001b[0;32m   1672\u001b[0m f \u001b[38;5;241m=\u001b[39m \u001b[38;5;28mself\u001b[39m\u001b[38;5;241m.\u001b[39mhandles\u001b[38;5;241m.\u001b[39mhandle\n",
            "File \u001b[1;32mc:\\ProgramData\\anaconda3\\Lib\\site-packages\\pandas\\io\\common.py:859\u001b[0m, in \u001b[0;36mget_handle\u001b[1;34m(path_or_buf, mode, encoding, compression, memory_map, is_text, errors, storage_options)\u001b[0m\n\u001b[0;32m    854\u001b[0m \u001b[38;5;28;01melif\u001b[39;00m \u001b[38;5;28misinstance\u001b[39m(handle, \u001b[38;5;28mstr\u001b[39m):\n\u001b[0;32m    855\u001b[0m     \u001b[38;5;66;03m# Check whether the filename is to be opened in binary mode.\u001b[39;00m\n\u001b[0;32m    856\u001b[0m     \u001b[38;5;66;03m# Binary mode does not support 'encoding' and 'newline'.\u001b[39;00m\n\u001b[0;32m    857\u001b[0m     \u001b[38;5;28;01mif\u001b[39;00m ioargs\u001b[38;5;241m.\u001b[39mencoding \u001b[38;5;129;01mand\u001b[39;00m \u001b[38;5;124m\"\u001b[39m\u001b[38;5;124mb\u001b[39m\u001b[38;5;124m\"\u001b[39m \u001b[38;5;129;01mnot\u001b[39;00m \u001b[38;5;129;01min\u001b[39;00m ioargs\u001b[38;5;241m.\u001b[39mmode:\n\u001b[0;32m    858\u001b[0m         \u001b[38;5;66;03m# Encoding\u001b[39;00m\n\u001b[1;32m--> 859\u001b[0m         handle \u001b[38;5;241m=\u001b[39m \u001b[38;5;28mopen\u001b[39m(\n\u001b[0;32m    860\u001b[0m             handle,\n\u001b[0;32m    861\u001b[0m             ioargs\u001b[38;5;241m.\u001b[39mmode,\n\u001b[0;32m    862\u001b[0m             encoding\u001b[38;5;241m=\u001b[39mioargs\u001b[38;5;241m.\u001b[39mencoding,\n\u001b[0;32m    863\u001b[0m             errors\u001b[38;5;241m=\u001b[39merrors,\n\u001b[0;32m    864\u001b[0m             newline\u001b[38;5;241m=\u001b[39m\u001b[38;5;124m\"\u001b[39m\u001b[38;5;124m\"\u001b[39m,\n\u001b[0;32m    865\u001b[0m         )\n\u001b[0;32m    866\u001b[0m     \u001b[38;5;28;01melse\u001b[39;00m:\n\u001b[0;32m    867\u001b[0m         \u001b[38;5;66;03m# Binary mode\u001b[39;00m\n\u001b[0;32m    868\u001b[0m         handle \u001b[38;5;241m=\u001b[39m \u001b[38;5;28mopen\u001b[39m(handle, ioargs\u001b[38;5;241m.\u001b[39mmode)\n",
            "\u001b[1;31mFileNotFoundError\u001b[0m: [Errno 2] No such file or directory: 'IMDB_Dataset.csv'"
          ]
        }
      ],
      "source": [
        "# Your code heimport re\n",
        "\n",
        "\n",
        "def clean_text(text):\n",
        "    # Remove HTML tags\n",
        "    text = re.sub(r'<.*?>', '', text)\n",
        "    # Remove URLs\n",
        "    text = re.sub(r'http\\S+', '', text)\n",
        "    # Remove non-alphanumeric characters\n",
        "    text = re.sub(r'\\W', ' ', text)\n",
        "    # Convert to lowercase\n",
        "    text = text.lower()\n",
        "    #maybe remove some special chars \n",
        "    # for example she's will be shes.\n",
        "    # will need to see how the next step handle this example\n",
        "    \n",
        "    # Remove stopwords\n",
        "    stop_words = set(stopwords.words('english'))\n",
        "    words = text.split()\n",
        "    text = ' '.join([word for word in words if word not in stop_words])\n",
        "    #should we remove all stop words? prob not\n",
        "    #example not good - turns into \"good\"\n",
        "    #so we need to think of a solution, maybe decrease from \n",
        "    #the stop words list some of the words that are important\n",
        "    return text\n",
        "def load_text(filename):\n",
        "   file_path = filename  # Replace with your file path\n",
        "   data = pd.read_csv(file_path, header=None, names=['review', 'sentiment'])\n",
        "\n",
        "    # Inspect the data\n",
        "   print(data.head())\n",
        "\n",
        "   print(data.info())\n",
        "    # Check for missing values\n",
        "   print(data.isnull().sum())\n",
        "\n",
        "    # Apply the cleaning function to the review column\n",
        "   data['review'] = data['review'].apply(clean_text)\n",
        "   return data\n",
        "# Example usage\n",
        "example_review = \"This is an example review with HTML <b>bold</b> tags and a URL: https://example.com\"\n",
        "cleaned_review = clean_text(example_review)\n",
        "print(\"Original:\", example_review)\n",
        "print(\"Cleaned:\", cleaned_review)\n",
        "\n",
        "# Load the data\n",
        "data = load_text('IMDB_Dataset.csv')\n",
        "print(\"cleaned text printing:\\n\")\n",
        "print(data.head())\n"
      ]
    },
    {
      "cell_type": "markdown",
      "metadata": {
        "id": "yIVRS_efnIWM"
      },
      "source": [
        "# Tokenization\n",
        "\n",
        "1. Tokenize the dataset (you can tokenize using spaces or use more robust methods from NLTK)\n",
        "2. (Optional) Lemmatize the text (you can use NLTK) this can improve results\n",
        "3. Lemmatize should be carfully be done, so we wont lose too much.\n",
        "4. Show an example of 3 sentences before and after this process"
      ]
    },
    {
      "cell_type": "code",
      "execution_count": 12,
      "metadata": {
        "id": "AdlCQ--gnwYh"
      },
      "outputs": [
        {
          "name": "stdout",
          "output_type": "stream",
          "text": [
            "POS Tags: [('The', 'DT'), ('cats', 'NNS'), ('are', 'VBP'), ('chasing', 'VBG'), ('the', 'DT'), ('mice', 'NN'), ('.', '.')]\n",
            "Original: The cats are chasing the mice.\n",
            "Processed: The cat are chase the mouse . \n",
            "\n",
            "POS Tags: [('He', 'PRP'), ('was', 'VBD'), ('running', 'VBG'), ('late', 'RB'), ('for', 'IN'), ('the', 'DT'), ('meeting', 'NN'), ('.', '.')]\n",
            "Original: He was running late for the meeting.\n",
            "Processed: He was run late for the meeting . \n",
            "\n",
            "POS Tags: [('She', 'PRP'), (\"'s\", 'VBZ'), ('enjoying', 'VBG'), ('the', 'DT'), ('sunny', 'NN'), ('weather', 'NN'), ('.', '.')]\n",
            "Original: She's enjoying the sunny weather.\n",
            "Processed: She 's enjoy the sunny weather . \n",
            "\n"
          ]
        }
      ],
      "source": [
        "from nltk.corpus import wordnet\n",
        "from nltk.tag import pos_tag\n",
        "\n",
        "#we decided to use POS tagging\n",
        "# this prevent the lemmatize process from taking\n",
        "# words like was and convert them into \"wa\"\n",
        "\n",
        "auxiliary_verbs = {\"am\", \"is\", \"are\", \"was\", \"were\", \"be\", \"being\", \"been\", \"will\", \"shall\", \"would\", \"should\", \"can\", \"could\", \"may\", \"might\", \"must\", \"do\", \"does\", \"did\", \"have\", \"has\", \"had\"}\n",
        "\n",
        "def get_wordnet_pos(treebank_tag):\n",
        "    \"\"\"Map POS tag to the format accepted by WordNetLemmatizer.\"\"\"\n",
        "    tag_dict = {\n",
        "        'J': wordnet.ADJ,\n",
        "        'N': wordnet.NOUN,\n",
        "        'V': wordnet.VERB,\n",
        "        'R': wordnet.ADV\n",
        "    }\n",
        "    return tag_dict.get(treebank_tag[0].upper(), wordnet.NOUN)\n",
        "def tokenize_and_lemmatize(text):\n",
        "    lemmatizer = WordNetLemmatizer()\n",
        "    tokens = word_tokenize(text)\n",
        "    pos_tags = nltk.pos_tag(tokens)\n",
        "    print(\"POS Tags:\", pos_tags)\n",
        "    lemmatized_tokens = []\n",
        "    for token, pos in pos_tags:\n",
        "        if token.lower() in auxiliary_verbs: #no need to token.lower, already did it on preprocessing\n",
        "            # Skip lemmatization for auxiliary verbs\n",
        "            lemmatized_tokens.append(token)\n",
        "        else:\n",
        "            lemma = lemmatizer.lemmatize(token, get_wordnet_pos(pos))\n",
        "            lemmatized_tokens.append(lemma)\n",
        "            \n",
        "    return ' '.join(lemmatized_tokens)\n",
        "\n",
        "# Example sentences\n",
        "example_sentences = [\n",
        "    \"The cats are chasing the mice.\",\n",
        "    \"He was running late for the meeting.\",\n",
        "    \"She's enjoying the sunny weather.\"\n",
        "]\n",
        "\n",
        "# Process and display the examples\n",
        "for sentence in example_sentences:\n",
        "    processed = tokenize_and_lemmatize(sentence)\n",
        "    print(\"Original:\", sentence)\n",
        "    print(\"Processed:\", processed, \"\\n\")"
      ]
    },
    {
      "cell_type": "markdown",
      "metadata": {
        "id": "Uls-qLAcoT2Z"
      },
      "source": [
        "# Basic analysis\n",
        "\n",
        "Perfrom some analysis on the data\n",
        "1. Show the number percentage of negative/positive review (label balancing)\n",
        "2. Plot some statistics on the length of review (after our cleaning process)\n",
        "3. (Optional) show anything else you think is important"
      ]
    },
    {
      "cell_type": "code",
      "execution_count": null,
      "metadata": {
        "id": "jnpnbjXcoRJx"
      },
      "outputs": [],
      "source": []
    },
    {
      "cell_type": "markdown",
      "metadata": {
        "id": "I-b0Fu9vqocP"
      },
      "source": [
        "# Preparing the dataset for training\n",
        "we can also use glove or previously used models as the first layer\n",
        "1. Choose your vocabulary size K (should be between 1000 and 3000)\n",
        "2. Find the top K frequent words in your database\n",
        "3. Create word indexes like we did in class, for any word not in your top K  words replace with \\<UNK\\>. Remember to add an index for the \\<PAD\\> token.\n",
        "4. Create a new dataset with indexes instead of words later to be used for training\n",
        "5. Convert your labels to numeric representation (that your network can deal with).\n",
        "\n",
        "Split the dataset to 80% traind and 20% test, remember to keep the balance between labels!\n",
        "we need to make sure, we still have enough labels on both sides\n",
        "\n"
      ]
    },
    {
      "cell_type": "code",
      "execution_count": null,
      "metadata": {
        "id": "ZawXFmEHqnvA"
      },
      "outputs": [],
      "source": [
        "# Your code here"
      ]
    },
    {
      "cell_type": "markdown",
      "metadata": {
        "id": "8UokkSJLp5VQ"
      },
      "source": [
        "# Training a feed forward neural network\n",
        "\n",
        "For simplicity we would take only reviews with 500 words (after tokenization) or less.\n",
        "For this part we would train a neural network that gets the full review as one input (like we had in our NER example in class) and outputs the label (positive or negative).\n",
        "Remember that you need to PAD the words so all reviews will have the same length.\n",
        "\n",
        "For this section please try at least 3 variants of different network and show if the results change, you can choose from the following:\n",
        "1. Adding hidden layers to the network\n",
        "2. Running with and without Dropout\n",
        "3. Trying different optimizers\n",
        "\n",
        "(Optional) Try to use the Glove embedding: Create an embedding layer in your PyTorch model using the loaded GloVe embeddings. You will initialize the weights of the embedding layer with the GloVe embeddings.\n",
        "\n",
        "For each option:\n",
        "\n",
        "* Plot the train and test error during training, does your network overfit?\n",
        "\n",
        "* Plot the final results of the network, including accuracy and confusion matrix"
      ]
    },
    {
      "cell_type": "code",
      "execution_count": null,
      "metadata": {
        "id": "NFtHmXUKp4hI"
      },
      "outputs": [],
      "source": [
        "# Your code here"
      ]
    },
    {
      "cell_type": "markdown",
      "metadata": {
        "id": "qoY1QnIdtCk3"
      },
      "source": [
        "# Training a BiDir LSTM neural network\n",
        "\n",
        "Now do the same as the prvious section with a bi-directional LSTM.\n",
        "\n",
        "Remember that the output of the LSTM should be connected to a small feed forward network to perform the actual classification.\n",
        "\n",
        "Here again you can play with number of layers and the LSTM or the small network of the output. Show only the best result you got.\n",
        "\n",
        "* Plot the train and test error during training, does your network overfit?\n",
        "\n",
        "* Plot the final results of the network, including accuracy and confusion matrix\n",
        "\n",
        "Are the results better than the previous section?\n",
        "\n",
        "\n"
      ]
    },
    {
      "cell_type": "code",
      "execution_count": null,
      "metadata": {
        "id": "f9WyUlmps5sO"
      },
      "outputs": [],
      "source": []
    },
    {
      "cell_type": "markdown",
      "metadata": {
        "id": "BIpmlkOdyRaS"
      },
      "source": [
        "Finally show 3 reviews from the test data with correct labales and 3 without, why do you think the network did not success on these examples?"
      ]
    },
    {
      "cell_type": "code",
      "execution_count": null,
      "metadata": {
        "id": "LLdBU7zSyQZa"
      },
      "outputs": [],
      "source": []
    }
  ],
  "metadata": {
    "colab": {
      "provenance": []
    },
    "kernelspec": {
      "display_name": "Python 3",
      "name": "python3"
    },
    "language_info": {
      "codemirror_mode": {
        "name": "ipython",
        "version": 3
      },
      "file_extension": ".py",
      "mimetype": "text/x-python",
      "name": "python",
      "nbconvert_exporter": "python",
      "pygments_lexer": "ipython3",
      "version": "3.11.5"
    }
  },
  "nbformat": 4,
  "nbformat_minor": 0
}
